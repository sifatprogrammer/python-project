{
 "cells": [
  {
   "cell_type": "code",
   "execution_count": 8,
   "metadata": {},
   "outputs": [],
   "source": [
    "bon=['ক','খ','গ','ঘ','ঙ','চ','ছ','জ','ঝ','ঞ','ট','ঠ','ড','ঢ','ণ','ত','থ','দ','ধ','ন','প','ফ','ব','ভ','ম','য','র'\n",
    "  ,'ল','শ','ষ','স','হ','ড়','ঢ়','য়','ৎ','ং','ঃ','ঁ','অ','আ','ই','ঈ','উ','ঊ','ঋ','এ','ঐ','ও','ঔ']\n"
   ]
  },
  {
   "cell_type": "code",
   "execution_count": 9,
   "metadata": {},
   "outputs": [],
   "source": [
    "ak=['া','ি','ী',',ু',',ূ','ৃ','ে','ৈ','ো','ৌ']"
   ]
  },
  {
   "cell_type": "code",
   "execution_count": 10,
   "metadata": {},
   "outputs": [
    {
     "data": {
      "text/plain": [
       "['ক',\n",
       " 'খ',\n",
       " 'গ',\n",
       " 'ঘ',\n",
       " 'ঙ',\n",
       " 'চ',\n",
       " 'ছ',\n",
       " 'জ',\n",
       " 'ঝ',\n",
       " 'ঞ',\n",
       " 'ট',\n",
       " 'ঠ',\n",
       " 'ড',\n",
       " 'ঢ',\n",
       " 'ণ',\n",
       " 'ত',\n",
       " 'থ',\n",
       " 'দ',\n",
       " 'ধ',\n",
       " 'ন',\n",
       " 'প',\n",
       " 'ফ',\n",
       " 'ব',\n",
       " 'ভ',\n",
       " 'ম',\n",
       " 'য',\n",
       " 'র',\n",
       " 'ল',\n",
       " 'শ',\n",
       " 'ষ',\n",
       " 'স',\n",
       " 'হ',\n",
       " 'ড়',\n",
       " 'ঢ়',\n",
       " 'য়',\n",
       " 'ৎ',\n",
       " 'ং',\n",
       " 'ঃ',\n",
       " 'ঁ',\n",
       " 'অ',\n",
       " 'আ',\n",
       " 'ই',\n",
       " 'ঈ',\n",
       " 'উ',\n",
       " 'ঊ',\n",
       " 'ঋ',\n",
       " 'এ',\n",
       " 'ঐ',\n",
       " 'ও',\n",
       " 'ঔ']"
      ]
     },
     "execution_count": 10,
     "metadata": {},
     "output_type": "execute_result"
    }
   ],
   "source": [
    "bon"
   ]
  },
  {
   "cell_type": "code",
   "execution_count": 11,
   "metadata": {},
   "outputs": [],
   "source": [
    "sen=bon[30]+ak[1]+bon[21]+ak[0]+bon[15]"
   ]
  },
  {
   "cell_type": "code",
   "execution_count": 12,
   "metadata": {
    "scrolled": false
   },
   "outputs": [
    {
     "data": {
      "text/plain": [
       "'সিফাত'"
      ]
     },
     "execution_count": 12,
     "metadata": {},
     "output_type": "execute_result"
    }
   ],
   "source": [
    "sen"
   ]
  },
  {
   "cell_type": "code",
   "execution_count": 13,
   "metadata": {},
   "outputs": [],
   "source": [
    "def hi():\n",
    "    print('হাই!' +sen+'। তুমি কেমন আছো?')"
   ]
  },
  {
   "cell_type": "code",
   "execution_count": 14,
   "metadata": {},
   "outputs": [
    {
     "name": "stdout",
     "output_type": "stream",
     "text": [
      "হাই!সিফাত। তুমি কেমন আছো?\n"
     ]
    }
   ],
   "source": [
    "hi()"
   ]
  },
  {
   "cell_type": "code",
   "execution_count": 15,
   "metadata": {},
   "outputs": [],
   "source": [
    "import pyttsx3\n",
    "speech=pyttsx3.init()\n",
    "text=\"sifat ali is a programer\"\n",
    "speech.say(text)\n",
    "speech.runAndWait()"
   ]
  },
  {
   "cell_type": "code",
   "execution_count": 16,
   "metadata": {},
   "outputs": [],
   "source": [
    "from gtts import gTTS\n",
    "import os\n",
    "\n",
    "text=\"তুমি কেমন আছো?\"\n",
    "\n",
    "language = 'bn'\n",
    "\n",
    "output = gTTS(text=text, lang=language,slow=False)\n",
    "output.save('si.mp3')\n",
    "\n"
   ]
  },
  {
   "cell_type": "code",
   "execution_count": 2,
   "metadata": {},
   "outputs": [
    {
     "name": "stdout",
     "output_type": "stream",
     "text": [
      "enter your word:sh\n",
      "শ\n"
     ]
    }
   ],
   "source": [
    "a=input(\"enter your word:\" )\n",
    "if a==\"sh\":\n",
    "    print(\"শ\")\n"
   ]
  },
  {
   "cell_type": "code",
   "execution_count": 67,
   "metadata": {},
   "outputs": [
    {
     "name": "stdout",
     "output_type": "stream",
     "text": [
      "['টি']\n",
      "['ওৃ']\n",
      "['ঝে']\n",
      "ঝে\n"
     ]
    }
   ],
   "source": [
    "import random\n",
    "for i in range(3):\n",
    "    a=random.choice(bon)\n",
    "    b=random.choice(ak)\n",
    "    print([a+b])\n",
    "    n=[a+b]\n",
    "\n",
    "print(' '.join(n))\n"
   ]
  },
  {
   "cell_type": "code",
   "execution_count": null,
   "metadata": {},
   "outputs": [],
   "source": []
  },
  {
   "cell_type": "code",
   "execution_count": null,
   "metadata": {},
   "outputs": [],
   "source": []
  }
 ],
 "metadata": {
  "kernelspec": {
   "display_name": "Python 3",
   "language": "python",
   "name": "python3"
  },
  "language_info": {
   "codemirror_mode": {
    "name": "ipython",
    "version": 3
   },
   "file_extension": ".py",
   "mimetype": "text/x-python",
   "name": "python",
   "nbconvert_exporter": "python",
   "pygments_lexer": "ipython3",
   "version": "3.7.4"
  }
 },
 "nbformat": 4,
 "nbformat_minor": 2
}
