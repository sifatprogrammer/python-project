{
 "cells": [
  {
   "cell_type": "code",
   "execution_count": 2,
   "metadata": {},
   "outputs": [
    {
     "name": "stdout",
     "output_type": "stream",
     "text": [
      "I will be a programmer.\n",
      "    so, I docode every day for 20 minutes at least!\n"
     ]
    }
   ],
   "source": [
    "print(\"I will be a programmer.\\n    so, I docode every day for 20 minutes at least!\")"
   ]
  },
  {
   "cell_type": "code",
   "execution_count": 4,
   "metadata": {},
   "outputs": [
    {
     "name": "stdout",
     "output_type": "stream",
     "text": [
      "Enter a number:5\n",
      "Enter a number:5\n",
      "10\n"
     ]
    }
   ],
   "source": [
    "a=int(input(\"Enter a number:\"))\n",
    "b=int(input(\"Enter a number:\"))\n",
    "print(a+b)"
   ]
  },
  {
   "cell_type": "code",
   "execution_count": 5,
   "metadata": {},
   "outputs": [
    {
     "name": "stdout",
     "output_type": "stream",
     "text": [
      "3 5 6 9 10 12 15 18 20 21 24 25 27 30 33 35 36 39 40 42 45 48 50 51 54 55 57 60 63 65 66 69 70 72 75 78 80 81 84 85 87 90 93 95 96 99 "
     ]
    }
   ],
   "source": [
    "for i in range(1,100):\n",
    "    if i%3==0 or i%5==0:\n",
    "        print(i,end=' ')"
   ]
  },
  {
   "cell_type": "code",
   "execution_count": 15,
   "metadata": {},
   "outputs": [
    {
     "name": "stdout",
     "output_type": "stream",
     "text": [
      "number1:12\n",
      "number2:33\n"
     ]
    },
    {
     "data": {
      "text/plain": [
       "str"
      ]
     },
     "execution_count": 15,
     "metadata": {},
     "output_type": "execute_result"
    }
   ],
   "source": [
    "number1=input(\"number1:\")\n",
    "number2=input(\"number2:\")\n",
    "type(number1)\n",
    "type(number2)\n"
   ]
  },
  {
   "cell_type": "code",
   "execution_count": 16,
   "metadata": {},
   "outputs": [
    {
     "name": "stdout",
     "output_type": "stream",
     "text": [
      "number1: 12\n",
      "number2: 33\n"
     ]
    },
    {
     "data": {
      "text/plain": [
       "int"
      ]
     },
     "execution_count": 16,
     "metadata": {},
     "output_type": "execute_result"
    }
   ],
   "source": [
    "print('number1: {}'.format(number1))\n",
    "print('number2: {}'.format(number2))\n",
    "type(int(number1))\n",
    "type(int(number2))"
   ]
  },
  {
   "cell_type": "code",
   "execution_count": 7,
   "metadata": {},
   "outputs": [
    {
     "name": "stdout",
     "output_type": "stream",
     "text": [
      "The max number is: 568\n"
     ]
    }
   ],
   "source": [
    "sifat=[562,454,442,568]\n",
    "a=max(sifat)\n",
    "print(\"The max number is:\",a)"
   ]
  },
  {
   "cell_type": "code",
   "execution_count": 65,
   "metadata": {},
   "outputs": [
    {
     "name": "stdout",
     "output_type": "stream",
     "text": [
      "How many input dowant to give ?4\n",
      "Input:2\n",
      "Input:4\n",
      "Input:3\n",
      "Input:6\n",
      "The max value is: 6\n"
     ]
    }
   ],
   "source": [
    "nu=[]\n",
    "a=int(input(\"How many input dowant to give ?\"))\n",
    "for i in range(a):\n",
    "    num=int(input(\"Input:\"))\n",
    "    nu.append(num)\n",
    "nu\n",
    "b=max(nu)\n",
    "print(\"The max value is:\",b)"
   ]
  },
  {
   "cell_type": "code",
   "execution_count": 16,
   "metadata": {},
   "outputs": [
    {
     "name": "stdout",
     "output_type": "stream",
     "text": [
      "Input number1:5\n",
      "Input number2:6\n",
      "The multiplication result: 30\n",
      "The addition result: 11\n",
      "The subtraction result: 19\n"
     ]
    }
   ],
   "source": [
    "def sifat():\n",
    "    num=int(input(\"Input number1:\"))\n",
    "    num1=int(input(\"Input number2:\"))\n",
    "    print(\"The multiplication result:\",num*num1)\n",
    "    print(\"The addition result:\",num+num1)\n",
    "    print(\"The subtraction result:\",(num*num1)-(num+num1))\n",
    "\n",
    "sifat()    \n",
    "    "
   ]
  },
  {
   "cell_type": "code",
   "execution_count": 91,
   "metadata": {},
   "outputs": [
    {
     "data": {
      "text/plain": [
       "[0, 1, 2, 3, 4, 5, 6, 7, 8, 9, 10]"
      ]
     },
     "execution_count": 91,
     "metadata": {},
     "output_type": "execute_result"
    }
   ],
   "source": [
    "list=[0,1,2,3,4,5,6,7,8,9,10]\n",
    "list\n"
   ]
  },
  {
   "cell_type": "code",
   "execution_count": 92,
   "metadata": {},
   "outputs": [
    {
     "data": {
      "text/plain": [
       "[0, 1, 5, 3, 4, 2, 6, 7, 8, 9, 10]"
      ]
     },
     "execution_count": 92,
     "metadata": {},
     "output_type": "execute_result"
    }
   ],
   "source": [
    "list1=[0,1,2,3,4,5,6,7,8,9,10]\n",
    "list1[2],list1[5] = list1[5],list1[2]\n",
    "list1"
   ]
  },
  {
   "cell_type": "code",
   "execution_count": 20,
   "metadata": {},
   "outputs": [
    {
     "name": "stdout",
     "output_type": "stream",
     "text": [
      "5\n",
      " \n",
      "1  \n",
      "2 2  \n",
      "3 3 3  \n",
      "4 4 4 4  \n",
      "5 5 5 5 5  \n"
     ]
    }
   ],
   "source": [
    "a=int(input())\n",
    "for i in range(a+1):\n",
    "    for s in range(i):\n",
    "        print(i,end=' ')\n",
    "    print(' ')    "
   ]
  },
  {
   "cell_type": "code",
   "execution_count": null,
   "metadata": {},
   "outputs": [],
   "source": [
    "My future plans after 'school of robotics' course on programming and robotics. For example:\n",
    "1. I will practice what I learn daily.\n",
    "2. I want to be a programmer.\n",
    "3. I will read more about robotics programming."
   ]
  }
 ],
 "metadata": {
  "kernelspec": {
   "display_name": "Python 3",
   "language": "python",
   "name": "python3"
  },
  "language_info": {
   "codemirror_mode": {
    "name": "ipython",
    "version": 3
   },
   "file_extension": ".py",
   "mimetype": "text/x-python",
   "name": "python",
   "nbconvert_exporter": "python",
   "pygments_lexer": "ipython3",
   "version": "3.7.4"
  }
 },
 "nbformat": 4,
 "nbformat_minor": 2
}
