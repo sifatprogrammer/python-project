{
 "cells": [
  {
   "cell_type": "markdown",
   "metadata": {},
   "source": [
    "# collections pakage\n"
   ]
  },
  {
   "cell_type": "code",
   "execution_count": 4,
   "metadata": {},
   "outputs": [
    {
     "name": "stdout",
     "output_type": "stream",
     "text": [
      "Counter({1: 5, 2: 3, 21: 1})\n"
     ]
    }
   ],
   "source": [
    "import collections\n",
    "counts = collections.Counter([1,21,1,1,1,2,2,2,1])\n",
    "print(counts)"
   ]
  },
  {
   "cell_type": "code",
   "execution_count": 3,
   "metadata": {},
   "outputs": [
    {
     "name": "stdout",
     "output_type": "stream",
     "text": [
      "Counter({'S': 1, 'i': 1, 'f': 1, 'a': 1, 't': 1})\n"
     ]
    }
   ],
   "source": [
    "import collections\n",
    "counts = collections.Counter(\"Sifat\")\n",
    "print(counts)"
   ]
  },
  {
   "cell_type": "code",
   "execution_count": 2,
   "metadata": {},
   "outputs": [
    {
     "name": "stdout",
     "output_type": "stream",
     "text": [
      "Counter({'I': 1, 'love': 1, 'sifat': 1, 'programer.': 1, 'he': 1, 'has': 1, 'a': 1, 'web': 1, 'devoloper': 1})\n"
     ]
    }
   ],
   "source": [
    "import collections\n",
    "counts = collections.Counter(\"I love sifat programer. he has a web devoloper\".split())\n",
    "print(counts)"
   ]
  },
  {
   "cell_type": "markdown",
   "metadata": {},
   "source": [
    "# arg & karg"
   ]
  },
  {
   "cell_type": "code",
   "execution_count": 5,
   "metadata": {},
   "outputs": [
    {
     "name": "stdout",
     "output_type": "stream",
     "text": [
      "formal arg: 1\n",
      "another positional arg: two\n",
      "another positional arg: 3\n"
     ]
    }
   ],
   "source": [
    "def print_args(farg, *args):\n",
    "     print(\"formal arg: %s\" % farg)\n",
    "     for arg in args:\n",
    "         print(\"another positional arg: %s\" % arg)\n",
    "print_args(1, \"two\", 3)\n"
   ]
  },
  {
   "cell_type": "code",
   "execution_count": 11,
   "metadata": {},
   "outputs": [
    {
     "name": "stdout",
     "output_type": "stream",
     "text": [
      "{'a': 'two', 'b': 3}\n"
     ]
    }
   ],
   "source": [
    "def print_kwargs(**kwargs):\n",
    "    print(kwargs)\n",
    "print_kwargs(a=\"two\", b=3)\n"
   ]
  },
  {
   "cell_type": "markdown",
   "metadata": {},
   "source": [
    "# json"
   ]
  },
  {
   "cell_type": "code",
   "execution_count": 27,
   "metadata": {},
   "outputs": [
    {
     "name": "stdout",
     "output_type": "stream",
     "text": [
      "{'language': 'en', 'bla': 'key'}\n"
     ]
    }
   ],
   "source": [
    "my_var = 'bla';\n",
    "api_key = 'key';\n",
    "\n",
    "\n",
    "params = {\"language\": \"en\", my_var: api_key}\n",
    "print(params)"
   ]
  },
  {
   "cell_type": "markdown",
   "metadata": {},
   "source": [
    "# datetime"
   ]
  },
  {
   "cell_type": "code",
   "execution_count": 29,
   "metadata": {},
   "outputs": [
    {
     "name": "stdout",
     "output_type": "stream",
     "text": [
      "Yesterday: 2022-02-27\n",
      "Today: 2022-02-28\n",
      "Tomorrow: 2022-03-01\n"
     ]
    }
   ],
   "source": [
    "import datetime\n",
    "yesterday = today - datetime.timedelta(days=1)\n",
    "print('Yesterday:', yesterday)\n",
    "today = datetime.date.today()\n",
    "print('Today:', today)\n",
    "tomorrow = today + datetime.timedelta(days=1)\n",
    "print('Tomorrow:', tomorrow)\n"
   ]
  },
  {
   "cell_type": "markdown",
   "metadata": {},
   "source": [
    "# turtole"
   ]
  },
  {
   "cell_type": "code",
   "execution_count": 1,
   "metadata": {},
   "outputs": [],
   "source": [
    "import turtle\n",
    "ninja = turtle.Turtle()\n",
    "ninja.speed(10)\n",
    "for i in range(180):\n",
    " ninja.forward(100)\n",
    " ninja.right(30)\n",
    " ninja.forward(20)\n",
    " ninja.left(60)\n",
    " ninja.forward(50)\n",
    " ninja.right(30)\n",
    " ninja.penup()\n",
    " ninja.setposition(0, 0)\n",
    " ninja.pendown()\n",
    " ninja.right(2)\n",
    "turtle.done()\n"
   ]
  },
  {
   "cell_type": "markdown",
   "metadata": {},
   "source": [
    "\n",
    "# python with exel"
   ]
  },
  {
   "cell_type": "code",
   "execution_count": 2,
   "metadata": {},
   "outputs": [
    {
     "data": {
      "text/plain": [
       "1"
      ]
     },
     "execution_count": 2,
     "metadata": {},
     "output_type": "execute_result"
    }
   ],
   "source": [
    "import os, sys\n",
    "from openpyxl import Workbook\n",
    "from datetime import datetime\n",
    "dt = datetime.now()\n",
    "list_values = [[\"01/01/2016\", \"05:00:00\", 3], \\\n",
    " [\"01/02/2016\", \"06:00:00\", 4], \\\n",
    " [\"01/03/2016\", \"07:00:00\", 5], \\\n",
    " [\"01/04/2016\", \"08:00:00\", 6], \\\n",
    " [\"01/05/2016\", \"09:00:00\", 7]]\n",
    "# Create a Workbook on Excel:\n",
    "wb = Workbook()\n",
    "sheet = wb.active\n",
    "sheet.title = 'data'\n",
    "# Print the titles into Excel Workbook:\n",
    "row = 1\n",
    "sheet['A'+str(row)] = 'Date'\n",
    "sheet['B'+str(row)] = 'Hour'\n",
    "sheet['C'+str(row)] = 'Value'\n",
    "# Populate with data\n",
    "for item in list_values:\n",
    " row += 1\n",
    " sheet['A'+str(row)] = item[0]\n",
    " sheet['B'+str(row)] = item[1]\n",
    " sheet['C'+str(row)] = item[2]\n",
    "# Save a file by date:\n",
    "filename = 'data_' + dt.strftime(\"%Y%m%d_%I%M%S\") + '.xlsx'\n",
    "wb.save(filename)\n",
    "# Open the file for the user:\n",
    "os.chdir(sys.path[0])\n",
    "os.system('start excel.exe \"%s\\\\%s\"' % (sys.path[0], filename, ))\n"
   ]
  },
  {
   "cell_type": "code",
   "execution_count": null,
   "metadata": {},
   "outputs": [],
   "source": []
  }
 ],
 "metadata": {
  "kernelspec": {
   "display_name": "Python 3",
   "language": "python",
   "name": "python3"
  },
  "language_info": {
   "codemirror_mode": {
    "name": "ipython",
    "version": 3
   },
   "file_extension": ".py",
   "mimetype": "text/x-python",
   "name": "python",
   "nbconvert_exporter": "python",
   "pygments_lexer": "ipython3",
   "version": "3.7.4"
  }
 },
 "nbformat": 4,
 "nbformat_minor": 2
}
