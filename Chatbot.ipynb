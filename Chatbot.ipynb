{
 "cells": [
  {
   "cell_type": "code",
   "execution_count": 2,
   "metadata": {},
   "outputs": [
    {
     "data": {
      "text/html": [
       "<div>\n",
       "<style scoped>\n",
       "    .dataframe tbody tr th:only-of-type {\n",
       "        vertical-align: middle;\n",
       "    }\n",
       "\n",
       "    .dataframe tbody tr th {\n",
       "        vertical-align: top;\n",
       "    }\n",
       "\n",
       "    .dataframe thead th {\n",
       "        text-align: right;\n",
       "    }\n",
       "</style>\n",
       "<table border=\"1\" class=\"dataframe\">\n",
       "  <thead>\n",
       "    <tr style=\"text-align: right;\">\n",
       "      <th></th>\n",
       "      <th>User</th>\n",
       "      <th>Bot</th>\n",
       "    </tr>\n",
       "  </thead>\n",
       "  <tbody>\n",
       "    <tr>\n",
       "      <td>0</td>\n",
       "      <td>yes, but i don't know where the orange cones are.</td>\n",
       "      <td>it doesn't matter. here he comes now with the...</td>\n",
       "    </tr>\n",
       "    <tr>\n",
       "      <td>1</td>\n",
       "      <td>how much money do you have?</td>\n",
       "      <td>$1,000.</td>\n",
       "    </tr>\n",
       "    <tr>\n",
       "      <td>2</td>\n",
       "      <td>she loves you, yeah, yeah, yeah!...</td>\n",
       "      <td>and you know you should be glad!</td>\n",
       "    </tr>\n",
       "    <tr>\n",
       "      <td>3</td>\n",
       "      <td>oh, yes! \"let it be, let it be",
       "\"</td>\n",
       "      <td>there will be an answer, let it be!</td>\n",
       "    </tr>\n",
       "    <tr>\n",
       "      <td>4</td>\n",
       "      <td>what's your mailing address?</td>\n",
       "      <td>456 cherry drive, pasadena, ca 91170.</td>\n",
       "    </tr>\n",
       "    <tr>\n",
       "      <td>...</td>\n",
       "      <td>...</td>\n",
       "      <td>...</td>\n",
       "    </tr>\n",
       "    <tr>\n",
       "      <td>3719</td>\n",
       "      <td>that's what everyone says.</td>\n",
       "      <td>you're trying to tell me something.</td>\n",
       "    </tr>\n",
       "    <tr>\n",
       "      <td>3720</td>\n",
       "      <td>yes. all my life.</td>\n",
       "      <td>you're wearing out your right hand. stop using...</td>\n",
       "    </tr>\n",
       "    <tr>\n",
       "      <td>3721</td>\n",
       "      <td>that's true. it is a very funny movie.</td>\n",
       "      <td>you've seen it before?</td>\n",
       "    </tr>\n",
       "    <tr>\n",
       "      <td>3722</td>\n",
       "      <td>and he poured water into our glasses.</td>\n",
       "      <td>yuck! no water for me.</td>\n",
       "    </tr>\n",
       "    <tr>\n",
       "      <td>3723</td>\n",
       "      <td>okay. i'll tell you how the show ends.</td>\n",
       "      <td>zzz.</td>\n",
       "    </tr>\n",
       "  </tbody>\n",
       "</table>\n",
       "<p>3724 rows × 2 columns</p>\n",
       "</div>"
      ],
      "text/plain": [
       "                                                   User  \\\n",
       "0     yes, but i don't know where the orange cones are.   \n",
       "1                           how much money do you have?   \n",
       "2                   she loves you, yeah, yeah, yeah!...   \n",
       "3                      oh, yes! \"let it be, let it be\n",
       "\"   \n",
       "4                          what's your mailing address?   \n",
       "...                                                 ...   \n",
       "3719                         that's what everyone says.   \n",
       "3720                                  yes. all my life.   \n",
       "3721             that's true. it is a very funny movie.   \n",
       "3722              and he poured water into our glasses.   \n",
       "3723             okay. i'll tell you how the show ends.   \n",
       "\n",
       "                                                    Bot  \n",
       "0      it doesn't matter. here he comes now with the...  \n",
       "1                                               $1,000.  \n",
       "2                     \n",
       "and you know you should be glad!  \n",
       "3                  \n",
       "there will be an answer, let it be!  \n",
       "4                 456 cherry drive, pasadena, ca 91170.  \n",
       "...                                                 ...  \n",
       "3719                you're trying to tell me something.  \n",
       "3720  you're wearing out your right hand. stop using...  \n",
       "3721                             you've seen it before?  \n",
       "3722                             yuck! no water for me.  \n",
       "3723                                               zzz.  \n",
       "\n",
       "[3724 rows x 2 columns]"
      ]
     },
     "execution_count": 2,
     "metadata": {},
     "output_type": "execute_result"
    }
   ],
   "source": [
    "\n",
    "import random\n",
    "import pandas as pd\n",
    "df = pd.read_csv(\"chatbot.csv\")\n",
    "df"
   ]
  },
  {
   "cell_type": "code",
   "execution_count": 15,
   "metadata": {},
   "outputs": [
    {
     "name": "stdout",
     "output_type": "stream",
     "text": [
      "Collecting pathlib\n",
      "  Downloading https://files.pythonhosted.org/packages/78/f9/690a8600b93c332de3ab4a344a4ac34f00c8f104917061f779db6a918ed6/pathlib-1.0.1-py3-none-any.whl\n",
      "Installing collected packages: pathlib\n",
      "Successfully installed pathlib-1.0.1\n"
     ]
    }
   ],
   "source": [
    "!pip install pathlib"
   ]
  },
  {
   "cell_type": "code",
   "execution_count": null,
   "metadata": {},
   "outputs": [],
   "source": []
  }
 ],
 "metadata": {
  "kernelspec": {
   "display_name": "Python 3",
   "language": "python",
   "name": "python3"
  },
  "language_info": {
   "codemirror_mode": {
    "name": "ipython",
    "version": 3
   },
   "file_extension": ".py",
   "mimetype": "text/x-python",
   "name": "python",
   "nbconvert_exporter": "python",
   "pygments_lexer": "ipython3",
   "version": "3.7.4"
  }
 },
 "nbformat": 4,
 "nbformat_minor": 2
}
