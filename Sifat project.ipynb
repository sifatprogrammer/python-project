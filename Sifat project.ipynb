{
 "cells": [
  {
   "cell_type": "markdown",
   "metadata": {},
   "source": [
    "# project 1 : male voice robot\n"
   ]
  },
  {
   "cell_type": "code",
   "execution_count": 4,
   "metadata": {},
   "outputs": [
    {
     "name": "stdout",
     "output_type": "stream",
     "text": [
      "Hi!sifat\n",
      "HKEY_LOCAL_MACHINE\\SOFTWARE\\Microsoft\\Speech\\Voices\\Tokens\\TTS_MS_EN-US_DAVID_11.0\n"
     ]
    }
   ],
   "source": [
    "import pyttsx3\n",
    "import random\n",
    "b=['Hi!sumaiya','Hi!ridoy','Hi!mahadi','Hi!mihir','Hi!sifat']\n",
    "a=random.choice(b)\n",
    "print(a)\n",
    "speech=pyttsx3.init()\n",
    "voices = speech.getProperty('voices')\n",
    "print(voices[0].id)\n",
    "speech.setProperty('voice',voices[0].id)\n",
    "speech.say(a)\n",
    "speech.runAndWait()"
   ]
  },
  {
   "cell_type": "markdown",
   "metadata": {},
   "source": [
    "# project 2 : female voice robot"
   ]
  },
  {
   "cell_type": "code",
   "execution_count": 20,
   "metadata": {},
   "outputs": [
    {
     "name": "stdout",
     "output_type": "stream",
     "text": [
      "Hi!sifat\n",
      "HKEY_LOCAL_MACHINE\\SOFTWARE\\Microsoft\\Speech\\Voices\\Tokens\\TTS_MS_EN-US_DAVID_11.0\n"
     ]
    }
   ],
   "source": [
    "import pyttsx3\n",
    "import random\n",
    "b=['Hi!sifat','Hi!ridoy','Hi!mahadi','Hi!mihir','Hi!sumaiya']\n",
    "a=random.choice(b)\n",
    "print(a)\n",
    "speech=pyttsx3.init()\n",
    "voices = speech.getProperty('voices')\n",
    "print(voices[0].id)\n",
    "speech.setProperty('voice',voices[1].id)\n",
    "\n",
    "speech.say(a)\n",
    "speech.runAndWait()"
   ]
  },
  {
   "cell_type": "markdown",
   "metadata": {},
   "source": [
    "# project 3 : calculator\n"
   ]
  },
  {
   "cell_type": "code",
   "execution_count": 21,
   "metadata": {},
   "outputs": [
    {
     "name": "stdout",
     "output_type": "stream",
     "text": [
      "1.add\n",
      "2.sub\n",
      "3.multi\n",
      "4.division\n",
      "5.boat speed\n",
      "6.faver\n",
      "Enter your choice number:5\n"
     ]
    }
   ],
   "source": [
    "print(\"1.add\\n2.sub\\n3.multi\\n4.division\\n5.boat speed\\n6.faver\")\n",
    "z=int(input('Enter your choice number:'))\n",
    "def add():\n",
    "    a=int(input('Enter your number:'))\n",
    "    b=int(input('Enter your number:'))\n",
    "    print(a,\"+\",b,\"=\",a+b)\n",
    "def sub():\n",
    "    a=int(input('Enter your number:'))\n",
    "    b=int(input('Enter your number:'))\n",
    "    print(a,\"-\",b,\"=\",a-b)\n",
    "def multi():\n",
    "    a=int(input('Enter your number:'))\n",
    "    b=int(input('Enter your number:'))\n",
    "    print(a,\"*\",b,\"=\",a*b)\n",
    "def division():\n",
    "    a=int(input('Enter your number:'))\n",
    "    b=int(input('Enter your number:'))\n",
    "    print(a,\"/\",b,\"=\",a/b)\n",
    "\n",
    "if z==1:\n",
    "    add()\n",
    "if z==2:\n",
    "    sub()\n",
    "if z==3:\n",
    "    multi()\n",
    "if z==4:\n",
    "    division()"
   ]
  },
  {
   "cell_type": "markdown",
   "metadata": {},
   "source": [
    "##### project 4\n"
   ]
  },
  {
   "cell_type": "code",
   "execution_count": 30,
   "metadata": {},
   "outputs": [
    {
     "name": "stdout",
     "output_type": "stream",
     "text": [
      "enter a number:25\n",
      "25 * 1 = 25\n",
      "25 * 2 = 50\n",
      "25 * 3 = 75\n",
      "25 * 4 = 100\n",
      "25 * 5 = 125\n",
      "25 * 6 = 150\n",
      "25 * 7 = 175\n",
      "25 * 8 = 200\n",
      "25 * 9 = 225\n",
      "25 * 10 = 250\n"
     ]
    }
   ],
   "source": [
    "a=int(input(\"enter a number:\"))\n",
    "for i in range(1,11):\n",
    "    print(a,\"*\",i,\"=\",a*i)"
   ]
  },
  {
   "cell_type": "code",
   "execution_count": 1,
   "metadata": {},
   "outputs": [],
   "source": [
    "from tkinter import *\n",
    "from tkinter import messagebox\n",
    "import random\n",
    "\n",
    "root = Tk()\n",
    "root.geometry('800x600+300+50')\n",
    "root.title('Typing Speed Game')\n",
    "\n",
    "root.configure(bg='black')\n",
    "words = ['a','ability','able','about','above','accept','as','ask','assume','at','attacK','attention','atTorney','audIence','autHor','authOrity',\n",
    "'AvaiLable','Avoid','away','baby','back','bad','bag','ball','bank','bar','base','be','beat','beautiful','because','become','bed','before','begin','behavior','behind','believe','benefit','best','better','between','beyond','big','bill','billion','bit','black','blood','blue','board','body','book','born','both','box','boy','Lorem','Ipsum','simply','dummy','printing','typesetting','cleavercode','aralfinarif','industry','essentially','software','versions ']\n",
    "random.shuffle(words)\n",
    "########## function section\n",
    "def welcomeLabel():\n",
    "    global count,sliderWrod\n",
    "    text = 'Welcome To Typing Speed Testing Game'\n",
    "    if(count >= len(text)):\n",
    "        count=0\n",
    "        sliderWrod=''\n",
    "    sliderWrod += text[count]\n",
    "    count += 1\n",
    "    titleLabel.configure(text=sliderWrod)\n",
    "    titleLabel.after(150,welcomeLabel)\n",
    ",\n",
    "\n",
    "def startGame(event):\n",
    "    global score,miss\n",
    "    if(timeLeft == 300):\n",
    "        time()\n",
    "    gamePlayDetailLabel.configure(text='Enjoy The Game')\n",
    "    if(wordEntry.get() == wordLabel['text']):\n",
    "        score += 1\n",
    "        scoreCountLabel.configure(text=score)\n",
    "    else:\n",
    "        miss += 1\n",
    "    random.shuffle(words)\n",
    "    wordLabel.configure(text=words[0])\n",
    "    wordEntry.delete(0,END)\n",
    "\n",
    "def time():\n",
    "    global timeLeft,score,miss\n",
    "    if(timeLeft >=11):\n",
    "        pass\n",
    "    else:\n",
    "        timeCountLabel.configure(fg='red')\n",
    "    if(timeLeft >0):\n",
    "        timeLeft -= 1\n",
    "        timeCountLabel.configure(text=timeLeft)\n",
    "        timeCountLabel.after(1000,time)\n",
    "    else:\n",
    "        gamePlayDetailLabel.configure(text='Hit = {} | Miss = {} | Total Score = {}'.format(score,miss,score-miss))\n",
    "        notific = messagebox.askretrycancel('Notification','For Play Again Please Hit The Retry Button!')\n",
    "        if(notific==True):\n",
    "            score=0\n",
    "            timeLeft=300\n",
    "            miss=0\n",
    "            timeCountLabel.configure(text=timeLeft)\n",
    "            wordLabel.configure(text=words[0])\n",
    "            scoreCountLabel.configure(text=score)\n",
    "########## variables\n",
    "score = 0\n",
    "miss = 0\n",
    "timeLeft = 300\n",
    "0\n",
    "count = 0\n",
    "sliderWrod = ''\n",
    "\n",
    "############## label section\n",
    "titleLabel = Label(root,text='',bg='black',fg='green',font=('arial',30,'italic bold'),width=33)\n",
    "titleLabel.place(x=10,y=10)\n",
    "welcomeLabel()\n",
    "\n",
    "scoreLabel = Label(root,text='Your Score :',bg='black',fg='white',font=('arial',25,'italic bold'))\n",
    "scoreLabel.place(x=10,y=100)\n",
    "scoreCountLabel = Label(root,text=score,bg='black',fg='white',font=('arial',25,'italic bold'))\n",
    "scoreCountLabel.place(x=80,y=180)\n",
    "\n",
    "timeLabel = Label(root,text='Time Left :',bg='black',fg='white',font=('arial',25,'italic bold'))\n",
    "timeLabel.place(x=600,y=100)\n",
    "timeCountLabel = Label(root,text=timeLeft,bg='black',fg='white',font=('arial',25,'italic bold'))\n",
    "timeCountLabel.place(x=680,y=180)\n",
    "\n",
    "wordLabel = Label(root,text=words[0],bg='black',fg='blue',font=('arial',35,'italic bold'))\n",
    "wordLabel.place(x=250,y=200)\n",
    "\n",
    "############## Entry Section\n",
    "wordEntry = Entry(root,font=('arial',25,'italic bold'),bd=10,justify='center')\n",
    "wordEntry.place(x=200,y=300)\n",
    "wordEntry.focus_set()\n",
    "\n",
    "\n",
    "######## game play detail label\n",
    "gamePlayDetailLabel = Label(root,text='Type Word And Hit Enter Button',bg='black',fg='powder blue',font=('arial',30,'italic bold'))\n",
    "gamePlayDetailLabel.place(x=100,y=450)\n",
    "\n",
    "root.bind('<Return>',startGame)\n",
    "root.mainloop()"
   ]
  },
  {
   "cell_type": "code",
   "execution_count": null,
   "metadata": {},
   "outputs": [],
   "source": []
  }
 ],
 "metadata": {
  "kernelspec": {
   "display_name": "Python 3",
   "language": "python",
   "name": "python3"
  },
  "language_info": {
   "codemirror_mode": {
    "name": "ipython",
    "version": 3
   },
   "file_extension": ".py",
   "mimetype": "text/x-python",
   "name": "python",
   "nbconvert_exporter": "python",
   "pygments_lexer": "ipython3",
   "version": "3.7.4"
  }
 },
 "nbformat": 4,
 "nbformat_minor": 2
}
