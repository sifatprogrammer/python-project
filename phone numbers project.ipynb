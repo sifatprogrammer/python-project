{
 "cells": [
  {
   "cell_type": "code",
   "execution_count": 1,
   "metadata": {},
   "outputs": [
    {
     "name": "stdout",
     "output_type": "stream",
     "text": [
      "Enter you phone number:+8801710370337\n",
      "+8801710370337\n",
      "Country Code: 880 National Number: 1710370337\n",
      "('Asia/Dhaka',)\n",
      "Grameenphone\n",
      "Bangladesh\n"
     ]
    }
   ],
   "source": [
    "import  phonenumbers\n",
    "from phonenumbers import timezone, geocoder, carrier\n",
    "\n",
    "number = input(\"Enter you phone number:\")\n",
    "phone = phonenumbers.parse(number)\n",
    "time = timezone.time_zones_for_number(phone)\n",
    "sim_details = carrier.name_for_number(phone,'en')\n",
    "register = geocoder.description_for_number(phone, \"en\")\n",
    "print(number)\n",
    "print(phone)\n",
    "print(time)\n",
    "print(sim_details)\n",
    "print(register)"
   ]
  },
  {
   "cell_type": "code",
   "execution_count": null,
   "metadata": {},
   "outputs": [],
   "source": []
  }
 ],
 "metadata": {
  "kernelspec": {
   "display_name": "Python 3",
   "language": "python",
   "name": "python3"
  },
  "language_info": {
   "codemirror_mode": {
    "name": "ipython",
    "version": 3
   },
   "file_extension": ".py",
   "mimetype": "text/x-python",
   "name": "python",
   "nbconvert_exporter": "python",
   "pygments_lexer": "ipython3",
   "version": "3.7.4"
  }
 },
 "nbformat": 4,
 "nbformat_minor": 2
}
