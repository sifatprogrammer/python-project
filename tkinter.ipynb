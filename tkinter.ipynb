{
 "cells": [
  {
   "cell_type": "markdown",
   "metadata": {},
   "source": [
    "# tkinter print"
   ]
  },
  {
   "cell_type": "code",
   "execution_count": 1,
   "metadata": {},
   "outputs": [],
   "source": [
    "from  tkinter import *\n",
    "root=Tk()\n",
    "label=Label(root,text='hello ridoy')\n",
    "label.pack()\n",
    "root.mainloop()"
   ]
  },
  {
   "cell_type": "code",
   "execution_count": 3,
   "metadata": {},
   "outputs": [],
   "source": [
    "from  tkinter import *\n",
    "root=Tk()\n",
    "label=Label(root,text='hello ridoy')\n",
    "label1=Label(root,text='hello sifat')\n",
    "label.grid(row=0, column=0)\n",
    "label1.grid(row=1, column=0)\n",
    "root.mainloop()"
   ]
  },
  {
   "cell_type": "markdown",
   "metadata": {},
   "source": [
    "# tkinter button"
   ]
  },
  {
   "cell_type": "code",
   "execution_count": 4,
   "metadata": {},
   "outputs": [],
   "source": [
    "from  tkinter import *\n",
    "root=Tk()\n",
    "def mybutton():\n",
    "    mylabel=Label(root,text='I love bangladesh')\n",
    "    mylabel.pack()\n",
    "mybtn=Button(root,text='click me',fg='red',bg='green',padx=10,pady=50,command=mybutton)\n",
    "mybtn.pack()\n",
    "root.mainloop()"
   ]
  },
  {
   "cell_type": "markdown",
   "metadata": {},
   "source": [
    "# tkinter input\n"
   ]
  },
  {
   "cell_type": "code",
   "execution_count": 5,
   "metadata": {},
   "outputs": [],
   "source": [
    "from  tkinter import *\n",
    "root=Tk()\n",
    "myinput=Entry(root,width=50,bg='green',fg='black',borderwidth=50,font=30)\n",
    "myinput.insert(0,'Enter your name:')\n",
    "myinput.focus_set( )\n",
    "myinput.pack()\n",
    "\n",
    "def myclick():\n",
    "    myin=myinput.get()\n",
    "    mylabel=Label(root,text=myin)\n",
    "    mylabel.pack()\n",
    "mybtn=Button(root,text='click me',fg='green',bg='yellow',padx=10,pady=10,command=myclick )\n",
    "mybtn.pack()\n",
    "root.mainloop()"
   ]
  },
  {
   "cell_type": "code",
   "execution_count": 6,
   "metadata": {},
   "outputs": [
    {
     "ename": "ModuleNotFoundError",
     "evalue": "No module named 'qrcode'",
     "output_type": "error",
     "traceback": [
      "\u001b[1;31m---------------------------------------------------------------------------\u001b[0m",
      "\u001b[1;31mModuleNotFoundError\u001b[0m                       Traceback (most recent call last)",
      "\u001b[1;32m<ipython-input-6-6e0d7e2f8c0b>\u001b[0m in \u001b[0;36m<module>\u001b[1;34m\u001b[0m\n\u001b[1;32m----> 1\u001b[1;33m \u001b[1;32mfrom\u001b[0m \u001b[0mqrcode\u001b[0m \u001b[1;32mimport\u001b[0m \u001b[1;33m*\u001b[0m\u001b[1;33m\u001b[0m\u001b[1;33m\u001b[0m\u001b[0m\n\u001b[0m\u001b[0;32m      2\u001b[0m \u001b[0mQR\u001b[0m\u001b[1;33m=\u001b[0m\u001b[0mqrcode\u001b[0m\u001b[1;33m.\u001b[0m\u001b[0mmake\u001b[0m\u001b[1;33m(\u001b[0m\u001b[1;34m\"My name is sifat.\"\u001b[0m\u001b[1;33m)\u001b[0m\u001b[1;33m\u001b[0m\u001b[1;33m\u001b[0m\u001b[0m\n",
      "\u001b[1;31mModuleNotFoundError\u001b[0m: No module named 'qrcode'"
     ]
    }
   ],
   "source": [
    "from qrcode import *\n",
    "QR=qrcode.make(\"My name is sifat.\")"
   ]
  },
  {
   "cell_type": "code",
   "execution_count": 7,
   "metadata": {},
   "outputs": [
    {
     "ename": "ModuleNotFoundError",
     "evalue": "No module named 'import_ipynb'",
     "output_type": "error",
     "traceback": [
      "\u001b[1;31m---------------------------------------------------------------------------\u001b[0m",
      "\u001b[1;31mModuleNotFoundError\u001b[0m                       Traceback (most recent call last)",
      "\u001b[1;32m<ipython-input-7-211848469d15>\u001b[0m in \u001b[0;36m<module>\u001b[1;34m\u001b[0m\n\u001b[1;32m----> 1\u001b[1;33m \u001b[1;32mimport\u001b[0m \u001b[0mimport_ipynb\u001b[0m\u001b[1;33m\u001b[0m\u001b[1;33m\u001b[0m\u001b[0m\n\u001b[0m\u001b[0;32m      2\u001b[0m \u001b[1;32mimport\u001b[0m \u001b[0mcheck\u001b[0m\u001b[1;33m\u001b[0m\u001b[1;33m\u001b[0m\u001b[0m\n\u001b[0;32m      3\u001b[0m \u001b[1;32mfrom\u001b[0m \u001b[0mcheck\u001b[0m \u001b[1;32mimport\u001b[0m \u001b[0mfun\u001b[0m\u001b[1;33m\u001b[0m\u001b[1;33m\u001b[0m\u001b[0m\n\u001b[0;32m      4\u001b[0m \u001b[1;32mdef\u001b[0m \u001b[0mfun\u001b[0m\u001b[1;33m(\u001b[0m\u001b[1;33m)\u001b[0m\u001b[1;33m:\u001b[0m\u001b[1;33m\u001b[0m\u001b[1;33m\u001b[0m\u001b[0m\n\u001b[0;32m      5\u001b[0m     \u001b[0mprint\u001b[0m\u001b[1;33m(\u001b[0m\u001b[1;34m\"inside fun()\"\u001b[0m\u001b[1;33m)\u001b[0m\u001b[1;33m\u001b[0m\u001b[1;33m\u001b[0m\u001b[0m\n",
      "\u001b[1;31mModuleNotFoundError\u001b[0m: No module named 'import_ipynb'"
     ]
    }
   ],
   "source": [
    "import import_ipynb\n",
    "import check\n",
    "from check import fun\n",
    "def fun():\n",
    "    print(\"inside fun()\")\n",
    "fun()"
   ]
  },
  {
   "cell_type": "markdown",
   "metadata": {},
   "source": [
    "# weather app"
   ]
  },
  {
   "cell_type": "code",
   "execution_count": null,
   "metadata": {},
   "outputs": [],
   "source": [
    "import tkinter as tk\n",
    "import requests\n",
    "import time\n",
    " \n",
    "\n",
    "def getWeather(canvas):\n",
    "    city = textField.get()\n",
    "    api = \"https://api.openweathermap.org/data/2.5/weather?q=\"+city+\"&appid=06c921750b9a82d8f5d1294e1586276f\"\n",
    "    \n",
    "    json_data = requests.get(api).json()\n",
    "    condition = json_data['weather'][0]['main']\n",
    "    temp = int(json_data['main']['temp'] - 273.15)\n",
    "    min_temp = int(json_data['main']['temp_min'] - 273.15)\n",
    "    max_temp = int(json_data['main']['temp_max'] - 273.15)\n",
    "    pressure = json_data['main']['pressure']\n",
    "    humidity = json_data['main']['humidity']\n",
    "    wind = json_data['wind']['speed']\n",
    "    sunrise = time.strftime('%I:%M:%S', time.gmtime(json_data['sys']['sunrise'] - 21600))\n",
    "    sunset = time.strftime('%I:%M:%S', time.gmtime(json_data['sys']['sunset'] - 21600))\n",
    "\n",
    "    final_info = condition + \"\\n\" + str(temp) + \"°C\" \n",
    "    final_data = \"\\n\"+ \"Min Temp: \" + str(min_temp) + \"°C\" + \"\\n\" + \"Max Temp: \" + str(max_temp) + \"°C\" +\"\\n\" + \"Pressure: \" + str(pressure) + \"\\n\" +\"Humidity: \" + str(humidity) + \"\\n\" +\"Wind Speed: \" + str(wind) + \"\\n\" + \"Sunrise: \" + sunrise + \"\\n\" + \"Sunset: \" + sunset\n",
    "    label1.config(text = final_info)\n",
    "    label2.config(text = final_data)\n",
    "\n",
    "\n",
    "canvas = tk.Tk()\n",
    "canvas.geometry(\"600x500\")\n",
    "canvas.title(\"Weather App\")\n",
    "f = (\"poppins\", 15, \"bold\")\n",
    "t = (\"poppins\", 35, \"bold\")\n",
    "\n",
    "textField = tk.Entry(canvas, justify='center', width = 20, font = t)\n",
    "textField.pack(pady = 20)\n",
    "textField.focus()\n",
    "textField.bind('<Return>', getWeather)\n",
    "\n",
    "label1 = tk.Label(canvas, font=t)\n",
    "label1.pack()\n",
    "label2 = tk.Label(canvas, font=f)\n",
    "label2.pack()\n",
    "canvas.mainloop()"
   ]
  },
  {
   "cell_type": "code",
   "execution_count": null,
   "metadata": {},
   "outputs": [],
   "source": [
    "!pip install requests"
   ]
  },
  {
   "cell_type": "code",
   "execution_count": null,
   "metadata": {},
   "outputs": [],
   "source": []
  }
 ],
 "metadata": {
  "kernelspec": {
   "display_name": "Python 3",
   "language": "python",
   "name": "python3"
  },
  "language_info": {
   "codemirror_mode": {
    "name": "ipython",
    "version": 3
   },
   "file_extension": ".py",
   "mimetype": "text/x-python",
   "name": "python",
   "nbconvert_exporter": "python",
   "pygments_lexer": "ipython3",
   "version": "3.7.4"
  }
 },
 "nbformat": 4,
 "nbformat_minor": 2
}
